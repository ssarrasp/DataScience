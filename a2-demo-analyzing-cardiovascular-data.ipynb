{
 "cells": [
  {
   "cell_type": "markdown",
   "id": "0058940b",
   "metadata": {
    "_uuid": "945c0f151b28ca53b79e0f7cf5b107af959a3370",
    "papermill": {
     "duration": 0.0444,
     "end_time": "2022-02-25T10:47:54.270046",
     "exception": false,
     "start_time": "2022-02-25T10:47:54.225646",
     "status": "completed"
    },
    "tags": []
   },
   "source": [
    "<center>\n",
    "<img src=\"https://habrastorage.org/webt/ia/m9/zk/iam9zkyzqebnf_okxipihkgjwnw.jpeg\">\n",
    "\n",
    "## [mlcourse.ai](https://mlcourse.ai) - Open Machine Learning Course\n",
    "    \n",
    "Authors: [Ilya Baryshnikov](https://www.linkedin.com/in/baryshnikov-ilya/), [Maxim Uvarov](https://www.linkedin.com/in/maxis42/), and [Yury Kashnitsky](https://yorko.github.io). Translated and edited by [Inga Kaydanova](https://www.linkedin.com/in/inga-kaidanova-a92398b1/), [Egor Polusmak](https://www.linkedin.com/in/egor-polusmak/), [Anastasia Manokhina](https://www.linkedin.com/in/anastasiamanokhina/), and [Yuanyuan Pao](https://www.linkedin.com/in/yuanyuanpao/). This material is subject to the terms and conditions of the [Creative Commons CC BY-NC-SA 4.0](https://creativecommons.org/licenses/by-nc-sa/4.0/) license. Free use is permitted for any non-commercial purpose."
   ]
  },
  {
   "cell_type": "markdown",
   "id": "a76f6fcf",
   "metadata": {
    "_uuid": "66409c8728e75df39a1390bcb634ae50c6b37652",
    "papermill": {
     "duration": 0.04284,
     "end_time": "2022-02-25T10:47:54.358240",
     "exception": false,
     "start_time": "2022-02-25T10:47:54.315400",
     "status": "completed"
    },
    "tags": []
   },
   "source": [
    "# <center>Assignment #2 (demo)\n",
    "## <center>Analyzing cardiovascular disease data "
   ]
  },
  {
   "cell_type": "markdown",
   "id": "c669a3bc",
   "metadata": {
    "_uuid": "5cea59b8adb04c5a07a32c5b70a829319ba0cf2a",
    "papermill": {
     "duration": 0.043125,
     "end_time": "2022-02-25T10:47:54.447652",
     "exception": false,
     "start_time": "2022-02-25T10:47:54.404527",
     "status": "completed"
    },
    "tags": []
   },
   "source": [
    "In this assignment, you will answer questions about a dataset on cardiovascular disease. You do not need to download the data: it is already in the repository. There are some Tasks that will require you to write code. Complete them and then answer the questions in the [form](https://docs.google.com/forms/d/13cE_tSIb6hsScQvvWUJeu1MEHE5L6vnxQUbDYpXsf24). \n",
    "\n",
    "#### Problem\n",
    "\n",
    "Predict the presence or absence of cardiovascular disease (CVD) using the patient examination results.\n",
    "\n",
    "#### Data description\n",
    "\n",
    "There are 3 types of input features:\n",
    "\n",
    "- *Objective*: factual information;\n",
    "- *Examination*: results of medical examination;\n",
    "- *Subjective*: information given by the patient.\n",
    "\n",
    "| Feature | Variable Type | Variable      | Value Type |\n",
    "|---------|--------------|---------------|------------|\n",
    "| Age | Objective Feature | age | int (days) |\n",
    "| Height | Objective Feature | height | int (cm) |\n",
    "| Weight | Objective Feature | weight | float (kg) |\n",
    "| Gender | Objective Feature | gender | categorical code |\n",
    "| Systolic blood pressure | Examination Feature | ap_hi | int |\n",
    "| Diastolic blood pressure | Examination Feature | ap_lo | int |\n",
    "| Cholesterol | Examination Feature | cholesterol | 1: normal, 2: above normal, 3: well above normal |\n",
    "| Glucose | Examination Feature | gluc | 1: normal, 2: above normal, 3: well above normal |\n",
    "| Smoking | Subjective Feature | smoke | binary |\n",
    "| Alcohol intake | Subjective Feature | alco | binary |\n",
    "| Physical activity | Subjective Feature | active | binary |\n",
    "| Presence or absence of cardiovascular disease | Target Variable | cardio | binary |\n",
    "\n",
    "All of the dataset values were collected at the moment of medical examination."
   ]
  },
  {
   "cell_type": "markdown",
   "id": "47227711",
   "metadata": {
    "_uuid": "10749a7f9b46749e3a90ff697bc298760045c333",
    "papermill": {
     "duration": 0.043905,
     "end_time": "2022-02-25T10:47:54.535666",
     "exception": false,
     "start_time": "2022-02-25T10:47:54.491761",
     "status": "completed"
    },
    "tags": []
   },
   "source": [
    "Let's get to know our data by performing a preliminary data analysis.\n",
    "\n",
    "#  Part 1. Preliminary data analysis\n",
    "\n",
    "First, we will initialize the environment:"
   ]
  },
  {
   "cell_type": "code",
   "execution_count": 1,
   "id": "129231e0",
   "metadata": {
    "_uuid": "85426734e890fcf72416f29a953da115c1171080",
    "execution": {
     "iopub.execute_input": "2022-02-25T10:47:54.634579Z",
     "iopub.status.busy": "2022-02-25T10:47:54.626483Z",
     "iopub.status.idle": "2022-02-25T10:47:55.672186Z",
     "shell.execute_reply": "2022-02-25T10:47:55.671425Z",
     "shell.execute_reply.started": "2022-02-25T09:52:23.288367Z"
    },
    "papermill": {
     "duration": 1.093082,
     "end_time": "2022-02-25T10:47:55.672378",
     "exception": false,
     "start_time": "2022-02-25T10:47:54.579296",
     "status": "completed"
    },
    "tags": []
   },
   "outputs": [],
   "source": [
    "# Import all required modules\n",
    "import pandas as pd\n",
    "import numpy as np\n",
    "\n",
    "# Disable warnings\n",
    "import warnings\n",
    "warnings.filterwarnings(\"ignore\")\n",
    "\n",
    "# Import plotting modules\n",
    "import seaborn as sns\n",
    "sns.set()\n",
    "import matplotlib\n",
    "import matplotlib.pyplot as plt\n",
    "import matplotlib.ticker\n",
    "%matplotlib inline"
   ]
  },
  {
   "cell_type": "markdown",
   "id": "25e820b3",
   "metadata": {
    "_uuid": "cbcf821e4bea8a7f7fb1ee4a9bf285b6c4b588ee",
    "papermill": {
     "duration": 0.042822,
     "end_time": "2022-02-25T10:47:55.758807",
     "exception": false,
     "start_time": "2022-02-25T10:47:55.715985",
     "status": "completed"
    },
    "tags": []
   },
   "source": [
    "You will use the `seaborn` library for visual analysis, so let's set that up too:"
   ]
  },
  {
   "cell_type": "code",
   "execution_count": 2,
   "id": "cd96a16c",
   "metadata": {
    "_uuid": "b33601a0cadc2fb2d92f211c31bf99a502f71d48",
    "execution": {
     "iopub.execute_input": "2022-02-25T10:47:55.851393Z",
     "iopub.status.busy": "2022-02-25T10:47:55.850734Z",
     "iopub.status.idle": "2022-02-25T10:47:55.852626Z",
     "shell.execute_reply": "2022-02-25T10:47:55.853108Z",
     "shell.execute_reply.started": "2022-02-25T09:52:24.529467Z"
    },
    "papermill": {
     "duration": 0.051196,
     "end_time": "2022-02-25T10:47:55.853271",
     "exception": false,
     "start_time": "2022-02-25T10:47:55.802075",
     "status": "completed"
    },
    "tags": []
   },
   "outputs": [],
   "source": [
    "# Tune the visual settings for figures in `seaborn`\n",
    "sns.set_context(\n",
    "    \"notebook\", \n",
    "    font_scale=1.5,       \n",
    "    rc={ \n",
    "        \"figure.figsize\": (11, 8), \n",
    "        \"axes.titlesize\": 18 \n",
    "    }\n",
    ")\n",
    "\n",
    "from matplotlib import rcParams\n",
    "rcParams['figure.figsize'] = 11, 8"
   ]
  },
  {
   "cell_type": "markdown",
   "id": "58edc29e",
   "metadata": {
    "_uuid": "89381351e4b95530b355e0e55bc4536c0a813d10",
    "papermill": {
     "duration": 0.04317,
     "end_time": "2022-02-25T10:47:55.939958",
     "exception": false,
     "start_time": "2022-02-25T10:47:55.896788",
     "status": "completed"
    },
    "tags": []
   },
   "source": [
    "To make it simple, we will work only with the training part of the dataset:"
   ]
  },
  {
   "cell_type": "code",
   "execution_count": 3,
   "id": "bffb9fce",
   "metadata": {
    "_uuid": "2bd0005e660693a061577ca5244b48ccebf36719",
    "execution": {
     "iopub.execute_input": "2022-02-25T10:47:56.031652Z",
     "iopub.status.busy": "2022-02-25T10:47:56.030982Z",
     "iopub.status.idle": "2022-02-25T10:47:56.190661Z",
     "shell.execute_reply": "2022-02-25T10:47:56.191164Z",
     "shell.execute_reply.started": "2022-02-25T09:52:24.537698Z"
    },
    "papermill": {
     "duration": 0.207164,
     "end_time": "2022-02-25T10:47:56.191328",
     "exception": false,
     "start_time": "2022-02-25T10:47:55.984164",
     "status": "completed"
    },
    "tags": []
   },
   "outputs": [
    {
     "name": "stdout",
     "output_type": "stream",
     "text": [
      "Dataset size:  (70000, 13)\n"
     ]
    },
    {
     "data": {
      "text/html": [
       "<div>\n",
       "<style scoped>\n",
       "    .dataframe tbody tr th:only-of-type {\n",
       "        vertical-align: middle;\n",
       "    }\n",
       "\n",
       "    .dataframe tbody tr th {\n",
       "        vertical-align: top;\n",
       "    }\n",
       "\n",
       "    .dataframe thead th {\n",
       "        text-align: right;\n",
       "    }\n",
       "</style>\n",
       "<table border=\"1\" class=\"dataframe\">\n",
       "  <thead>\n",
       "    <tr style=\"text-align: right;\">\n",
       "      <th></th>\n",
       "      <th>id</th>\n",
       "      <th>age</th>\n",
       "      <th>gender</th>\n",
       "      <th>height</th>\n",
       "      <th>weight</th>\n",
       "      <th>ap_hi</th>\n",
       "      <th>ap_lo</th>\n",
       "      <th>cholesterol</th>\n",
       "      <th>gluc</th>\n",
       "      <th>smoke</th>\n",
       "      <th>alco</th>\n",
       "      <th>active</th>\n",
       "      <th>cardio</th>\n",
       "    </tr>\n",
       "  </thead>\n",
       "  <tbody>\n",
       "    <tr>\n",
       "      <th>0</th>\n",
       "      <td>0</td>\n",
       "      <td>18393</td>\n",
       "      <td>2</td>\n",
       "      <td>168</td>\n",
       "      <td>62.0</td>\n",
       "      <td>110</td>\n",
       "      <td>80</td>\n",
       "      <td>1</td>\n",
       "      <td>1</td>\n",
       "      <td>0</td>\n",
       "      <td>0</td>\n",
       "      <td>1</td>\n",
       "      <td>0</td>\n",
       "    </tr>\n",
       "    <tr>\n",
       "      <th>1</th>\n",
       "      <td>1</td>\n",
       "      <td>20228</td>\n",
       "      <td>1</td>\n",
       "      <td>156</td>\n",
       "      <td>85.0</td>\n",
       "      <td>140</td>\n",
       "      <td>90</td>\n",
       "      <td>3</td>\n",
       "      <td>1</td>\n",
       "      <td>0</td>\n",
       "      <td>0</td>\n",
       "      <td>1</td>\n",
       "      <td>1</td>\n",
       "    </tr>\n",
       "    <tr>\n",
       "      <th>2</th>\n",
       "      <td>2</td>\n",
       "      <td>18857</td>\n",
       "      <td>1</td>\n",
       "      <td>165</td>\n",
       "      <td>64.0</td>\n",
       "      <td>130</td>\n",
       "      <td>70</td>\n",
       "      <td>3</td>\n",
       "      <td>1</td>\n",
       "      <td>0</td>\n",
       "      <td>0</td>\n",
       "      <td>0</td>\n",
       "      <td>1</td>\n",
       "    </tr>\n",
       "    <tr>\n",
       "      <th>3</th>\n",
       "      <td>3</td>\n",
       "      <td>17623</td>\n",
       "      <td>2</td>\n",
       "      <td>169</td>\n",
       "      <td>82.0</td>\n",
       "      <td>150</td>\n",
       "      <td>100</td>\n",
       "      <td>1</td>\n",
       "      <td>1</td>\n",
       "      <td>0</td>\n",
       "      <td>0</td>\n",
       "      <td>1</td>\n",
       "      <td>1</td>\n",
       "    </tr>\n",
       "    <tr>\n",
       "      <th>4</th>\n",
       "      <td>4</td>\n",
       "      <td>17474</td>\n",
       "      <td>1</td>\n",
       "      <td>156</td>\n",
       "      <td>56.0</td>\n",
       "      <td>100</td>\n",
       "      <td>60</td>\n",
       "      <td>1</td>\n",
       "      <td>1</td>\n",
       "      <td>0</td>\n",
       "      <td>0</td>\n",
       "      <td>0</td>\n",
       "      <td>0</td>\n",
       "    </tr>\n",
       "  </tbody>\n",
       "</table>\n",
       "</div>"
      ],
      "text/plain": [
       "   id    age  gender  height  weight  ap_hi  ap_lo  cholesterol  gluc  smoke  \\\n",
       "0   0  18393       2     168    62.0    110     80            1     1      0   \n",
       "1   1  20228       1     156    85.0    140     90            3     1      0   \n",
       "2   2  18857       1     165    64.0    130     70            3     1      0   \n",
       "3   3  17623       2     169    82.0    150    100            1     1      0   \n",
       "4   4  17474       1     156    56.0    100     60            1     1      0   \n",
       "\n",
       "   alco  active  cardio  \n",
       "0     0       1       0  \n",
       "1     0       1       1  \n",
       "2     0       0       1  \n",
       "3     0       1       1  \n",
       "4     0       0       0  "
      ]
     },
     "execution_count": 3,
     "metadata": {},
     "output_type": "execute_result"
    }
   ],
   "source": [
    "df = pd.read_csv('../input/mlbootcamp5_train.csv')\n",
    "print('Dataset size: ', df.shape)\n",
    "df.head()"
   ]
  },
  {
   "cell_type": "markdown",
   "id": "d330c54d",
   "metadata": {
    "_uuid": "636bf459023fbc1d1f1b73863c5246397dc26e6d",
    "papermill": {
     "duration": 0.04398,
     "end_time": "2022-02-25T10:47:56.281149",
     "exception": false,
     "start_time": "2022-02-25T10:47:56.237169",
     "status": "completed"
    },
    "tags": []
   },
   "source": [
    "It would be instructive to peek into the values of our variables.\n",
    " \n",
    "Let's convert the data into *long* format and depict the value counts of the categorical features using [`factorplot()`](https://seaborn.pydata.org/generated/seaborn.factorplot.html)."
   ]
  },
  {
   "cell_type": "code",
   "execution_count": 4,
   "id": "081abaad",
   "metadata": {
    "execution": {
     "iopub.execute_input": "2022-02-25T10:47:56.374326Z",
     "iopub.status.busy": "2022-02-25T10:47:56.373715Z",
     "iopub.status.idle": "2022-02-25T10:47:56.406801Z",
     "shell.execute_reply": "2022-02-25T10:47:56.407342Z",
     "shell.execute_reply.started": "2022-02-25T09:52:24.699629Z"
    },
    "papermill": {
     "duration": 0.081362,
     "end_time": "2022-02-25T10:47:56.407576",
     "exception": false,
     "start_time": "2022-02-25T10:47:56.326214",
     "status": "completed"
    },
    "tags": []
   },
   "outputs": [
    {
     "data": {
      "text/html": [
       "<div>\n",
       "<style scoped>\n",
       "    .dataframe tbody tr th:only-of-type {\n",
       "        vertical-align: middle;\n",
       "    }\n",
       "\n",
       "    .dataframe tbody tr th {\n",
       "        vertical-align: top;\n",
       "    }\n",
       "\n",
       "    .dataframe thead th {\n",
       "        text-align: right;\n",
       "    }\n",
       "</style>\n",
       "<table border=\"1\" class=\"dataframe\">\n",
       "  <thead>\n",
       "    <tr style=\"text-align: right;\">\n",
       "      <th></th>\n",
       "      <th>variable</th>\n",
       "      <th>value</th>\n",
       "    </tr>\n",
       "  </thead>\n",
       "  <tbody>\n",
       "    <tr>\n",
       "      <th>0</th>\n",
       "      <td>gender</td>\n",
       "      <td>2</td>\n",
       "    </tr>\n",
       "    <tr>\n",
       "      <th>1</th>\n",
       "      <td>gender</td>\n",
       "      <td>1</td>\n",
       "    </tr>\n",
       "    <tr>\n",
       "      <th>2</th>\n",
       "      <td>gender</td>\n",
       "      <td>1</td>\n",
       "    </tr>\n",
       "    <tr>\n",
       "      <th>3</th>\n",
       "      <td>gender</td>\n",
       "      <td>2</td>\n",
       "    </tr>\n",
       "    <tr>\n",
       "      <th>4</th>\n",
       "      <td>gender</td>\n",
       "      <td>1</td>\n",
       "    </tr>\n",
       "    <tr>\n",
       "      <th>...</th>\n",
       "      <td>...</td>\n",
       "      <td>...</td>\n",
       "    </tr>\n",
       "    <tr>\n",
       "      <th>489995</th>\n",
       "      <td>cardio</td>\n",
       "      <td>0</td>\n",
       "    </tr>\n",
       "    <tr>\n",
       "      <th>489996</th>\n",
       "      <td>cardio</td>\n",
       "      <td>1</td>\n",
       "    </tr>\n",
       "    <tr>\n",
       "      <th>489997</th>\n",
       "      <td>cardio</td>\n",
       "      <td>1</td>\n",
       "    </tr>\n",
       "    <tr>\n",
       "      <th>489998</th>\n",
       "      <td>cardio</td>\n",
       "      <td>1</td>\n",
       "    </tr>\n",
       "    <tr>\n",
       "      <th>489999</th>\n",
       "      <td>cardio</td>\n",
       "      <td>0</td>\n",
       "    </tr>\n",
       "  </tbody>\n",
       "</table>\n",
       "<p>490000 rows × 2 columns</p>\n",
       "</div>"
      ],
      "text/plain": [
       "       variable  value\n",
       "0        gender      2\n",
       "1        gender      1\n",
       "2        gender      1\n",
       "3        gender      2\n",
       "4        gender      1\n",
       "...         ...    ...\n",
       "489995   cardio      0\n",
       "489996   cardio      1\n",
       "489997   cardio      1\n",
       "489998   cardio      1\n",
       "489999   cardio      0\n",
       "\n",
       "[490000 rows x 2 columns]"
      ]
     },
     "execution_count": 4,
     "metadata": {},
     "output_type": "execute_result"
    }
   ],
   "source": [
    "df_uniques = pd.melt(frame=df, value_vars=['gender','cholesterol', \n",
    "                                           'gluc', 'smoke', 'alco', \n",
    "                                           'active', 'cardio'])\n",
    "df_uniques"
   ]
  },
  {
   "cell_type": "code",
   "execution_count": 5,
   "id": "b41ac58b",
   "metadata": {
    "execution": {
     "iopub.execute_input": "2022-02-25T10:47:56.501513Z",
     "iopub.status.busy": "2022-02-25T10:47:56.500874Z",
     "iopub.status.idle": "2022-02-25T10:47:56.591074Z",
     "shell.execute_reply": "2022-02-25T10:47:56.591685Z",
     "shell.execute_reply.started": "2022-02-25T09:52:24.736231Z"
    },
    "papermill": {
     "duration": 0.138628,
     "end_time": "2022-02-25T10:47:56.591854",
     "exception": false,
     "start_time": "2022-02-25T10:47:56.453226",
     "status": "completed"
    },
    "tags": []
   },
   "outputs": [
    {
     "data": {
      "text/html": [
       "<div>\n",
       "<style scoped>\n",
       "    .dataframe tbody tr th:only-of-type {\n",
       "        vertical-align: middle;\n",
       "    }\n",
       "\n",
       "    .dataframe tbody tr th {\n",
       "        vertical-align: top;\n",
       "    }\n",
       "\n",
       "    .dataframe thead th {\n",
       "        text-align: right;\n",
       "    }\n",
       "</style>\n",
       "<table border=\"1\" class=\"dataframe\">\n",
       "  <thead>\n",
       "    <tr style=\"text-align: right;\">\n",
       "      <th></th>\n",
       "      <th>variable</th>\n",
       "      <th>value</th>\n",
       "      <th>count</th>\n",
       "    </tr>\n",
       "  </thead>\n",
       "  <tbody>\n",
       "    <tr>\n",
       "      <th>0</th>\n",
       "      <td>active</td>\n",
       "      <td>0</td>\n",
       "      <td>13739</td>\n",
       "    </tr>\n",
       "    <tr>\n",
       "      <th>1</th>\n",
       "      <td>active</td>\n",
       "      <td>1</td>\n",
       "      <td>56261</td>\n",
       "    </tr>\n",
       "    <tr>\n",
       "      <th>2</th>\n",
       "      <td>alco</td>\n",
       "      <td>0</td>\n",
       "      <td>66236</td>\n",
       "    </tr>\n",
       "    <tr>\n",
       "      <th>3</th>\n",
       "      <td>alco</td>\n",
       "      <td>1</td>\n",
       "      <td>3764</td>\n",
       "    </tr>\n",
       "    <tr>\n",
       "      <th>4</th>\n",
       "      <td>cardio</td>\n",
       "      <td>0</td>\n",
       "      <td>35021</td>\n",
       "    </tr>\n",
       "    <tr>\n",
       "      <th>5</th>\n",
       "      <td>cardio</td>\n",
       "      <td>1</td>\n",
       "      <td>34979</td>\n",
       "    </tr>\n",
       "    <tr>\n",
       "      <th>6</th>\n",
       "      <td>cholesterol</td>\n",
       "      <td>1</td>\n",
       "      <td>52385</td>\n",
       "    </tr>\n",
       "    <tr>\n",
       "      <th>7</th>\n",
       "      <td>cholesterol</td>\n",
       "      <td>2</td>\n",
       "      <td>9549</td>\n",
       "    </tr>\n",
       "    <tr>\n",
       "      <th>8</th>\n",
       "      <td>cholesterol</td>\n",
       "      <td>3</td>\n",
       "      <td>8066</td>\n",
       "    </tr>\n",
       "    <tr>\n",
       "      <th>9</th>\n",
       "      <td>gender</td>\n",
       "      <td>1</td>\n",
       "      <td>45530</td>\n",
       "    </tr>\n",
       "    <tr>\n",
       "      <th>10</th>\n",
       "      <td>gender</td>\n",
       "      <td>2</td>\n",
       "      <td>24470</td>\n",
       "    </tr>\n",
       "    <tr>\n",
       "      <th>11</th>\n",
       "      <td>gluc</td>\n",
       "      <td>1</td>\n",
       "      <td>59479</td>\n",
       "    </tr>\n",
       "    <tr>\n",
       "      <th>12</th>\n",
       "      <td>gluc</td>\n",
       "      <td>2</td>\n",
       "      <td>5190</td>\n",
       "    </tr>\n",
       "    <tr>\n",
       "      <th>13</th>\n",
       "      <td>gluc</td>\n",
       "      <td>3</td>\n",
       "      <td>5331</td>\n",
       "    </tr>\n",
       "    <tr>\n",
       "      <th>14</th>\n",
       "      <td>smoke</td>\n",
       "      <td>0</td>\n",
       "      <td>63831</td>\n",
       "    </tr>\n",
       "    <tr>\n",
       "      <th>15</th>\n",
       "      <td>smoke</td>\n",
       "      <td>1</td>\n",
       "      <td>6169</td>\n",
       "    </tr>\n",
       "  </tbody>\n",
       "</table>\n",
       "</div>"
      ],
      "text/plain": [
       "       variable  value  count\n",
       "0        active      0  13739\n",
       "1        active      1  56261\n",
       "2          alco      0  66236\n",
       "3          alco      1   3764\n",
       "4        cardio      0  35021\n",
       "5        cardio      1  34979\n",
       "6   cholesterol      1  52385\n",
       "7   cholesterol      2   9549\n",
       "8   cholesterol      3   8066\n",
       "9        gender      1  45530\n",
       "10       gender      2  24470\n",
       "11         gluc      1  59479\n",
       "12         gluc      2   5190\n",
       "13         gluc      3   5331\n",
       "14        smoke      0  63831\n",
       "15        smoke      1   6169"
      ]
     },
     "execution_count": 5,
     "metadata": {},
     "output_type": "execute_result"
    }
   ],
   "source": [
    "df_uniques = pd.DataFrame(df_uniques.groupby(['variable', \n",
    "                                              'value'])['value'].count()) \\\n",
    "    .sort_index(level=[0, 1]) \\\n",
    "    .rename(columns={'value': 'count'}) \\\n",
    "    .reset_index()\n",
    "\n",
    "df_uniques"
   ]
  },
  {
   "cell_type": "markdown",
   "id": "c512dbc9",
   "metadata": {
    "_uuid": "cb94ec9ddf78c607cdec5536581b8ec4004ac16b",
    "papermill": {
     "duration": 0.045266,
     "end_time": "2022-02-25T10:47:56.682658",
     "exception": false,
     "start_time": "2022-02-25T10:47:56.637392",
     "status": "completed"
    },
    "tags": []
   },
   "source": [
    "We can see that the target classes are balanced. That's great!\n",
    "\n",
    "Let's split the dataset by target values. Can you already spot the most significant feature by just looking at the plot?"
   ]
  },
  {
   "cell_type": "code",
   "execution_count": 6,
   "id": "02ed85db",
   "metadata": {
    "execution": {
     "iopub.execute_input": "2022-02-25T10:47:56.777978Z",
     "iopub.status.busy": "2022-02-25T10:47:56.777274Z",
     "iopub.status.idle": "2022-02-25T10:47:56.808340Z",
     "shell.execute_reply": "2022-02-25T10:47:56.808849Z",
     "shell.execute_reply.started": "2022-02-25T09:52:24.817517Z"
    },
    "papermill": {
     "duration": 0.080536,
     "end_time": "2022-02-25T10:47:56.809039",
     "exception": false,
     "start_time": "2022-02-25T10:47:56.728503",
     "status": "completed"
    },
    "tags": []
   },
   "outputs": [
    {
     "data": {
      "text/html": [
       "<div>\n",
       "<style scoped>\n",
       "    .dataframe tbody tr th:only-of-type {\n",
       "        vertical-align: middle;\n",
       "    }\n",
       "\n",
       "    .dataframe tbody tr th {\n",
       "        vertical-align: top;\n",
       "    }\n",
       "\n",
       "    .dataframe thead th {\n",
       "        text-align: right;\n",
       "    }\n",
       "</style>\n",
       "<table border=\"1\" class=\"dataframe\">\n",
       "  <thead>\n",
       "    <tr style=\"text-align: right;\">\n",
       "      <th></th>\n",
       "      <th>cardio</th>\n",
       "      <th>variable</th>\n",
       "      <th>value</th>\n",
       "    </tr>\n",
       "  </thead>\n",
       "  <tbody>\n",
       "    <tr>\n",
       "      <th>0</th>\n",
       "      <td>0</td>\n",
       "      <td>gender</td>\n",
       "      <td>2</td>\n",
       "    </tr>\n",
       "    <tr>\n",
       "      <th>1</th>\n",
       "      <td>1</td>\n",
       "      <td>gender</td>\n",
       "      <td>1</td>\n",
       "    </tr>\n",
       "    <tr>\n",
       "      <th>2</th>\n",
       "      <td>1</td>\n",
       "      <td>gender</td>\n",
       "      <td>1</td>\n",
       "    </tr>\n",
       "    <tr>\n",
       "      <th>3</th>\n",
       "      <td>1</td>\n",
       "      <td>gender</td>\n",
       "      <td>2</td>\n",
       "    </tr>\n",
       "    <tr>\n",
       "      <th>4</th>\n",
       "      <td>0</td>\n",
       "      <td>gender</td>\n",
       "      <td>1</td>\n",
       "    </tr>\n",
       "    <tr>\n",
       "      <th>...</th>\n",
       "      <td>...</td>\n",
       "      <td>...</td>\n",
       "      <td>...</td>\n",
       "    </tr>\n",
       "    <tr>\n",
       "      <th>419995</th>\n",
       "      <td>0</td>\n",
       "      <td>active</td>\n",
       "      <td>1</td>\n",
       "    </tr>\n",
       "    <tr>\n",
       "      <th>419996</th>\n",
       "      <td>1</td>\n",
       "      <td>active</td>\n",
       "      <td>1</td>\n",
       "    </tr>\n",
       "    <tr>\n",
       "      <th>419997</th>\n",
       "      <td>1</td>\n",
       "      <td>active</td>\n",
       "      <td>0</td>\n",
       "    </tr>\n",
       "    <tr>\n",
       "      <th>419998</th>\n",
       "      <td>1</td>\n",
       "      <td>active</td>\n",
       "      <td>0</td>\n",
       "    </tr>\n",
       "    <tr>\n",
       "      <th>419999</th>\n",
       "      <td>0</td>\n",
       "      <td>active</td>\n",
       "      <td>1</td>\n",
       "    </tr>\n",
       "  </tbody>\n",
       "</table>\n",
       "<p>420000 rows × 3 columns</p>\n",
       "</div>"
      ],
      "text/plain": [
       "        cardio variable  value\n",
       "0            0   gender      2\n",
       "1            1   gender      1\n",
       "2            1   gender      1\n",
       "3            1   gender      2\n",
       "4            0   gender      1\n",
       "...        ...      ...    ...\n",
       "419995       0   active      1\n",
       "419996       1   active      1\n",
       "419997       1   active      0\n",
       "419998       1   active      0\n",
       "419999       0   active      1\n",
       "\n",
       "[420000 rows x 3 columns]"
      ]
     },
     "execution_count": 6,
     "metadata": {},
     "output_type": "execute_result"
    }
   ],
   "source": [
    "df_uniques = pd.melt(frame=df, value_vars=['gender','cholesterol', \n",
    "                                           'gluc', 'smoke', 'alco', \n",
    "                                           'active'], \n",
    "                     id_vars=['cardio'])\n",
    "df_uniques"
   ]
  },
  {
   "cell_type": "code",
   "execution_count": 7,
   "id": "90cb4ad0",
   "metadata": {
    "_uuid": "a712d76f8c11588a9aebd4be6a00f01c53a8d80a",
    "execution": {
     "iopub.execute_input": "2022-02-25T10:47:56.904382Z",
     "iopub.status.busy": "2022-02-25T10:47:56.903753Z",
     "iopub.status.idle": "2022-02-25T10:47:57.999744Z",
     "shell.execute_reply": "2022-02-25T10:47:58.000267Z",
     "shell.execute_reply.started": "2022-02-25T09:52:24.848044Z"
    },
    "papermill": {
     "duration": 1.145236,
     "end_time": "2022-02-25T10:47:58.000476",
     "exception": false,
     "start_time": "2022-02-25T10:47:56.855240",
     "status": "completed"
    },
    "tags": []
   },
   "outputs": [
    {
     "data": {
      "image/png": "[encoded data removed]",
      "text/plain": [
       "<Figure size 1365.9x648 with 2 Axes>"
      ]
     },
     "metadata": {
      "needs_background": "light"
     },
     "output_type": "display_data"
    }
   ],
   "source": [
    "\n",
    "df_uniques = pd.DataFrame(df_uniques.groupby(['variable', 'value', \n",
    "                                              'cardio'])['value'].count()) \\\n",
    "    .sort_index(level=[0, 1]) \\\n",
    "    .rename(columns={'value': 'count'}) \\\n",
    "    .reset_index()\n",
    "\n",
    "sns.factorplot(x='variable', y='count', hue='value', \n",
    "               col='cardio', data=df_uniques, kind='bar', size=9);"
   ]
  },
  {
   "cell_type": "markdown",
   "id": "f998da73",
   "metadata": {
    "_uuid": "4f4fdb7b979c6594b3060a0b80473fabbdf6acd0",
    "papermill": {
     "duration": 0.047389,
     "end_time": "2022-02-25T10:47:58.095389",
     "exception": false,
     "start_time": "2022-02-25T10:47:58.048000",
     "status": "completed"
    },
    "tags": []
   },
   "source": [
    "You can see that the distribution of cholesterol and glucose levels great differs by the value of the target variable. Is this a coincidence?\n",
    "\n",
    "Now, let's calculate some statistics for the feature unique values:"
   ]
  },
  {
   "cell_type": "code",
   "execution_count": 8,
   "id": "ce88819e",
   "metadata": {
    "_uuid": "e9cbba719f93f6b544567638be7332b7385fc715",
    "execution": {
     "iopub.execute_input": "2022-02-25T10:47:58.196049Z",
     "iopub.status.busy": "2022-02-25T10:47:58.194990Z",
     "iopub.status.idle": "2022-02-25T10:47:58.224163Z",
     "shell.execute_reply": "2022-02-25T10:47:58.223500Z",
     "shell.execute_reply.started": "2022-02-25T09:52:25.699871Z"
    },
    "papermill": {
     "duration": 0.08029,
     "end_time": "2022-02-25T10:47:58.224320",
     "exception": false,
     "start_time": "2022-02-25T10:47:58.144030",
     "status": "completed"
    },
    "tags": []
   },
   "outputs": [
    {
     "name": "stdout",
     "output_type": "stream",
     "text": [
      "id\n",
      "70000\n",
      "----------\n",
      "age\n",
      "8076\n",
      "----------\n",
      "gender\n",
      "2 [(1, 45530), (2, 24470)]\n",
      "----------\n",
      "height\n",
      "109\n",
      "----------\n",
      "weight\n",
      "287\n",
      "----------\n",
      "ap_hi\n",
      "153\n",
      "----------\n",
      "ap_lo\n",
      "157\n",
      "----------\n",
      "cholesterol\n",
      "3 [(1, 52385), (2, 9549), (3, 8066)]\n",
      "----------\n",
      "gluc\n",
      "3 [(1, 59479), (2, 5190), (3, 5331)]\n",
      "----------\n",
      "smoke\n",
      "2 [(0, 63831), (1, 6169)]\n",
      "----------\n",
      "alco\n",
      "2 [(0, 66236), (1, 3764)]\n",
      "----------\n",
      "active\n",
      "2 [(0, 13739), (1, 56261)]\n",
      "----------\n",
      "cardio\n",
      "2 [(0, 35021), (1, 34979)]\n",
      "----------\n"
     ]
    }
   ],
   "source": [
    "for c in df.columns:\n",
    "    n = df[c].nunique()\n",
    "    print(c)\n",
    "    if n <= 3:\n",
    "        print(n, sorted(df[c].value_counts().to_dict().items()))\n",
    "    else:\n",
    "        print(n)\n",
    "    print(10 * '-')"
   ]
  },
  {
   "cell_type": "markdown",
   "id": "3c2a9581",
   "metadata": {
    "_uuid": "53507160b237077bf8b19fb987b910669c04ba8b",
    "papermill": {
     "duration": 0.048419,
     "end_time": "2022-02-25T10:47:58.321254",
     "exception": false,
     "start_time": "2022-02-25T10:47:58.272835",
     "status": "completed"
    },
    "tags": []
   },
   "source": [
    "In the end, we have:\n",
    "- 5 numerical features (excluding *id*);\n",
    "- 7 categorical features;\n",
    "- 70000 records in total."
   ]
  },
  {
   "cell_type": "markdown",
   "id": "c6be4058",
   "metadata": {
    "_uuid": "5f9dc83567c83c1ab2eeb4b855d3f8460c1a735e",
    "papermill": {
     "duration": 0.048133,
     "end_time": "2022-02-25T10:47:58.418163",
     "exception": false,
     "start_time": "2022-02-25T10:47:58.370030",
     "status": "completed"
    },
    "tags": []
   },
   "source": [
    "## 1.1. Basic observations"
   ]
  },
  {
   "cell_type": "markdown",
   "id": "b0f007d9",
   "metadata": {
    "_uuid": "129e6509399146154e8c7e293a2fd11f5d267fa4",
    "papermill": {
     "duration": 0.047899,
     "end_time": "2022-02-25T10:47:58.514199",
     "exception": false,
     "start_time": "2022-02-25T10:47:58.466300",
     "status": "completed"
    },
    "tags": []
   },
   "source": [
    "**Question 1.1. (1 point). How many men and women are present in this dataset? Values of the `gender` feature were not given (whether \"1\" stands for women or for men) – figure this out by looking analyzing height, making the assumption that men are taller on average. **\n",
    "1. 45530 women and 24470 men\n",
    "2. 45530 men and 24470 women\n",
    "3. 45470 women and 24530 men\n",
    "4. 45470 men and 24530 women"
   ]
  },
  {
   "cell_type": "code",
   "execution_count": 9,
   "id": "39470454",
   "metadata": {
    "execution": {
     "iopub.execute_input": "2022-02-25T10:47:58.614092Z",
     "iopub.status.busy": "2022-02-25T10:47:58.613038Z",
     "iopub.status.idle": "2022-02-25T10:47:58.624981Z",
     "shell.execute_reply": "2022-02-25T10:47:58.624367Z",
     "shell.execute_reply.started": "2022-02-25T09:52:25.740184Z"
    },
    "papermill": {
     "duration": 0.062994,
     "end_time": "2022-02-25T10:47:58.625127",
     "exception": false,
     "start_time": "2022-02-25T10:47:58.562133",
     "status": "completed"
    },
    "tags": []
   },
   "outputs": [
    {
     "data": {
      "text/plain": [
       "gender\n",
       "1    161.355612\n",
       "2    169.947895\n",
       "Name: height, dtype: float64"
      ]
     },
     "execution_count": 9,
     "metadata": {},
     "output_type": "execute_result"
    }
   ],
   "source": [
    "df.groupby('gender')['height'].mean()"
   ]
  },
  {
   "cell_type": "code",
   "execution_count": 10,
   "id": "9a9c5055",
   "metadata": {
    "execution": {
     "iopub.execute_input": "2022-02-25T10:47:58.728477Z",
     "iopub.status.busy": "2022-02-25T10:47:58.727764Z",
     "iopub.status.idle": "2022-02-25T10:47:58.733553Z",
     "shell.execute_reply": "2022-02-25T10:47:58.732915Z",
     "shell.execute_reply.started": "2022-02-25T09:52:25.756011Z"
    },
    "papermill": {
     "duration": 0.059829,
     "end_time": "2022-02-25T10:47:58.733700",
     "exception": false,
     "start_time": "2022-02-25T10:47:58.673871",
     "status": "completed"
    },
    "tags": []
   },
   "outputs": [],
   "source": [
    "df['gender'] = df['gender'].map({1: 'Female', 2: 'Male'})"
   ]
  },
  {
   "cell_type": "markdown",
   "id": "dc9b2e7f",
   "metadata": {
    "_uuid": "d6b36cf91cd63fcce92c4177475820bd6b94ec89",
    "papermill": {
     "duration": 0.048243,
     "end_time": "2022-02-25T10:47:58.830121",
     "exception": false,
     "start_time": "2022-02-25T10:47:58.781878",
     "status": "completed"
    },
    "tags": []
   },
   "source": [
    "**Question 1.2. (1 point). Which gender more often reports consuming alcohol - men or women?**\n",
    "1. women\n",
    "2. men"
   ]
  },
  {
   "cell_type": "code",
   "execution_count": 11,
   "id": "306be643",
   "metadata": {
    "execution": {
     "iopub.execute_input": "2022-02-25T10:47:58.935262Z",
     "iopub.status.busy": "2022-02-25T10:47:58.934619Z",
     "iopub.status.idle": "2022-02-25T10:47:58.948178Z",
     "shell.execute_reply": "2022-02-25T10:47:58.947628Z",
     "shell.execute_reply.started": "2022-02-25T09:52:25.772195Z"
    },
    "papermill": {
     "duration": 0.070373,
     "end_time": "2022-02-25T10:47:58.948339",
     "exception": false,
     "start_time": "2022-02-25T10:47:58.877966",
     "status": "completed"
    },
    "tags": []
   },
   "outputs": [
    {
     "data": {
      "text/plain": [
       "gender  alco\n",
       "Female  0       0.974500\n",
       "        1       0.025500\n",
       "Male    0       0.893625\n",
       "        1       0.106375\n",
       "Name: alco, dtype: float64"
      ]
     },
     "execution_count": 11,
     "metadata": {},
     "output_type": "execute_result"
    }
   ],
   "source": [
    "df.groupby('gender')['alco'].value_counts(normalize=True)"
   ]
  },
  {
   "cell_type": "markdown",
   "id": "4f887063",
   "metadata": {
    "_uuid": "8b98389e26edd01374d6217d8dd1e2d5ffff9d1c",
    "papermill": {
     "duration": 0.04868,
     "end_time": "2022-02-25T10:47:59.045811",
     "exception": false,
     "start_time": "2022-02-25T10:47:58.997131",
     "status": "completed"
    },
    "tags": []
   },
   "source": [
    "**Question 1.3. (1 point). What is the difference between the percentages of smokers among men and women (rounded)?**\n",
    "1. 4\n",
    "2. 16\n",
    "3. 20\n",
    "4. 24"
   ]
  },
  {
   "cell_type": "code",
   "execution_count": 12,
   "id": "c4640df1",
   "metadata": {
    "execution": {
     "iopub.execute_input": "2022-02-25T10:47:59.150397Z",
     "iopub.status.busy": "2022-02-25T10:47:59.149744Z",
     "iopub.status.idle": "2022-02-25T10:47:59.164547Z",
     "shell.execute_reply": "2022-02-25T10:47:59.165086Z",
     "shell.execute_reply.started": "2022-02-25T09:52:25.806815Z"
    },
    "papermill": {
     "duration": 0.070327,
     "end_time": "2022-02-25T10:47:59.165261",
     "exception": false,
     "start_time": "2022-02-25T10:47:59.094934",
     "status": "completed"
    },
    "tags": []
   },
   "outputs": [
    {
     "data": {
      "text/plain": [
       "gender  smoke\n",
       "Female  0        0.982144\n",
       "        1        0.017856\n",
       "Male    0        0.781120\n",
       "        1        0.218880\n",
       "Name: smoke, dtype: float64"
      ]
     },
     "execution_count": 12,
     "metadata": {},
     "output_type": "execute_result"
    }
   ],
   "source": [
    "df.groupby('gender')['smoke'].value_counts(normalize=True)"
   ]
  },
  {
   "cell_type": "markdown",
   "id": "c2912ac8",
   "metadata": {
    "_uuid": "c92554c5fe98a07b298cec98eaa2622a3bedbeeb",
    "papermill": {
     "duration": 0.048712,
     "end_time": "2022-02-25T10:47:59.264211",
     "exception": false,
     "start_time": "2022-02-25T10:47:59.215499",
     "status": "completed"
    },
    "tags": []
   },
   "source": [
    "**Question 1.4. (1 point). What is the difference between median values of age for smokers and non-smokers (in months, rounded)? You'll need to figure out the units of feature `age` in this dataset.**\n",
    "\n",
    "1. 5\n",
    "2. 10\n",
    "3. 15\n",
    "4. 20"
   ]
  },
  {
   "cell_type": "code",
   "execution_count": 13,
   "id": "4b1a1d1c",
   "metadata": {
    "execution": {
     "iopub.execute_input": "2022-02-25T10:47:59.365665Z",
     "iopub.status.busy": "2022-02-25T10:47:59.365056Z",
     "iopub.status.idle": "2022-02-25T10:47:59.376823Z",
     "shell.execute_reply": "2022-02-25T10:47:59.376235Z",
     "shell.execute_reply.started": "2022-02-25T09:52:25.830772Z"
    },
    "papermill": {
     "duration": 0.06377,
     "end_time": "2022-02-25T10:47:59.376967",
     "exception": false,
     "start_time": "2022-02-25T10:47:59.313197",
     "status": "completed"
    },
    "tags": []
   },
   "outputs": [
    {
     "data": {
      "text/plain": [
       "7164.0"
      ]
     },
     "execution_count": 13,
     "metadata": {},
     "output_type": "execute_result"
    }
   ],
   "source": [
    "age_median = df.groupby('smoke')['age'].median()\n",
    "(age_median[0] - age_median[1])*12"
   ]
  },
  {
   "cell_type": "code",
   "execution_count": 14,
   "id": "189ed5d5",
   "metadata": {
    "execution": {
     "iopub.execute_input": "2022-02-25T10:47:59.479539Z",
     "iopub.status.busy": "2022-02-25T10:47:59.478875Z",
     "iopub.status.idle": "2022-02-25T10:47:59.749013Z",
     "shell.execute_reply": "2022-02-25T10:47:59.749484Z",
     "shell.execute_reply.started": "2022-02-25T09:52:25.848000Z"
    },
    "papermill": {
     "duration": 0.323067,
     "end_time": "2022-02-25T10:47:59.749662",
     "exception": false,
     "start_time": "2022-02-25T10:47:59.426595",
     "status": "completed"
    },
    "tags": []
   },
   "outputs": [
    {
     "data": {
      "text/plain": [
       "<AxesSubplot:>"
      ]
     },
     "execution_count": 14,
     "metadata": {},
     "output_type": "execute_result"
    },
    {
     "data": {
      "image/png": "[encoded data removed]",
      "text/plain": [
       "<Figure size 792x576 with 1 Axes>"
      ]
     },
     "metadata": {
      "needs_background": "light"
     },
     "output_type": "display_data"
    }
   ],
   "source": [
    "#plt.figure(16, 9)\n",
    "#df['age'] = df['age']/365\n",
    "\n",
    "\n",
    "df['age'].hist()"
   ]
  },
  {
   "cell_type": "markdown",
   "id": "2d45f418",
   "metadata": {
    "_uuid": "ac5d59876eb97782eab5f038aa8b2335e014d9bf",
    "papermill": {
     "duration": 0.051129,
     "end_time": "2022-02-25T10:47:59.851738",
     "exception": false,
     "start_time": "2022-02-25T10:47:59.800609",
     "status": "completed"
    },
    "tags": []
   },
   "source": [
    "## 1.2. Risk maps\n",
    "### Task:"
   ]
  },
  {
   "cell_type": "markdown",
   "id": "9b9a7d4d",
   "metadata": {
    "_uuid": "9efc6fd8ff26ea2ddf95e7e0b70ef3b802f83af5",
    "papermill": {
     "duration": 0.05126,
     "end_time": "2022-02-25T10:47:59.953810",
     "exception": false,
     "start_time": "2022-02-25T10:47:59.902550",
     "status": "completed"
    },
    "tags": []
   },
   "source": [
    "On the website for the European Society of Cardiology, a [SCORE scale](https://www.escardio.org/Education/Practice-Tools/CVD-prevention-toolbox/SCORE-Risk-Charts) is provided. It is used for calculating the risk of death from a cardiovascular decease in the next 10 years. Here it is:\n",
    "<img src=https://habrastorage.org/webt/ik/gx/hr/ikgxhr3w1vzqihgitgrbdorfb14.png width=30%>\n",
    "\n",
    "Let's take a look at the upper-right rectangle, which shows a subset of smoking men aged from 60 to 65. (It's not obvious, but the values in the figure represent the upper bound).\n",
    "\n",
    "We see the value 9 in the lower-left corner of the rectangle and 47 in the upper-right. This means that, for people in this gender-age group whose systolic pressure is less than 120, the risk of a CVD is estimated to be 5 times lower than for those with the pressure in the interval [160,180).\n",
    "\n",
    "Let's calculate that same ratio using our data.\n",
    "\n",
    "Clarifications:\n",
    "- Calculate ``age_years`` feature – round age to the nearest number of years. For this task, select only the people of age 60 to 64, inclusive.\n",
    "- Cholesterol level categories differ between the figure and our dataset. The conversion for the ``cholesterol`` feature is as follows: 4 mmol/l $\\rightarrow$ 1, 5-7 mmol/l $\\rightarrow$ 2, 8 mmol/l $\\rightarrow$ 3."
   ]
  },
  {
   "cell_type": "code",
   "execution_count": 15,
   "id": "a3c7c037",
   "metadata": {
    "execution": {
     "iopub.execute_input": "2022-02-25T10:48:00.059985Z",
     "iopub.status.busy": "2022-02-25T10:48:00.059000Z",
     "iopub.status.idle": "2022-02-25T10:48:00.066603Z",
     "shell.execute_reply": "2022-02-25T10:48:00.067160Z",
     "shell.execute_reply.started": "2022-02-25T09:52:26.099941Z"
    },
    "papermill": {
     "duration": 0.06285,
     "end_time": "2022-02-25T10:48:00.067327",
     "exception": false,
     "start_time": "2022-02-25T10:48:00.004477",
     "status": "completed"
    },
    "tags": []
   },
   "outputs": [],
   "source": [
    "df['age'] = df['age']/365"
   ]
  },
  {
   "cell_type": "code",
   "execution_count": 16,
   "id": "fb376479",
   "metadata": {
    "_uuid": "8caffb39e65c95e4cfebfe448bbe224af4d0766c",
    "execution": {
     "iopub.execute_input": "2022-02-25T10:48:00.173733Z",
     "iopub.status.busy": "2022-02-25T10:48:00.172748Z",
     "iopub.status.idle": "2022-02-25T10:48:00.254905Z",
     "shell.execute_reply": "2022-02-25T10:48:00.255412Z",
     "shell.execute_reply.started": "2022-02-25T09:52:26.106712Z"
    },
    "papermill": {
     "duration": 0.137189,
     "end_time": "2022-02-25T10:48:00.255591",
     "exception": false,
     "start_time": "2022-02-25T10:48:00.118402",
     "status": "completed"
    },
    "tags": []
   },
   "outputs": [
    {
     "data": {
      "text/html": [
       "<div>\n",
       "<style scoped>\n",
       "    .dataframe tbody tr th:only-of-type {\n",
       "        vertical-align: middle;\n",
       "    }\n",
       "\n",
       "    .dataframe tbody tr th {\n",
       "        vertical-align: top;\n",
       "    }\n",
       "\n",
       "    .dataframe thead th {\n",
       "        text-align: right;\n",
       "    }\n",
       "</style>\n",
       "<table border=\"1\" class=\"dataframe\">\n",
       "  <thead>\n",
       "    <tr style=\"text-align: right;\">\n",
       "      <th></th>\n",
       "      <th>id</th>\n",
       "      <th>age</th>\n",
       "      <th>gender</th>\n",
       "      <th>height</th>\n",
       "      <th>weight</th>\n",
       "      <th>ap_hi</th>\n",
       "      <th>ap_lo</th>\n",
       "      <th>cholesterol</th>\n",
       "      <th>gluc</th>\n",
       "      <th>smoke</th>\n",
       "      <th>alco</th>\n",
       "      <th>active</th>\n",
       "      <th>cardio</th>\n",
       "    </tr>\n",
       "  </thead>\n",
       "  <tbody>\n",
       "    <tr>\n",
       "      <th>5</th>\n",
       "      <td>8</td>\n",
       "      <td>60</td>\n",
       "      <td>Female</td>\n",
       "      <td>151</td>\n",
       "      <td>67.0</td>\n",
       "      <td>120</td>\n",
       "      <td>80</td>\n",
       "      <td>2</td>\n",
       "      <td>2</td>\n",
       "      <td>0</td>\n",
       "      <td>0</td>\n",
       "      <td>0</td>\n",
       "      <td>0</td>\n",
       "    </tr>\n",
       "    <tr>\n",
       "      <th>6</th>\n",
       "      <td>9</td>\n",
       "      <td>61</td>\n",
       "      <td>Female</td>\n",
       "      <td>157</td>\n",
       "      <td>93.0</td>\n",
       "      <td>130</td>\n",
       "      <td>80</td>\n",
       "      <td>3</td>\n",
       "      <td>1</td>\n",
       "      <td>0</td>\n",
       "      <td>0</td>\n",
       "      <td>1</td>\n",
       "      <td>0</td>\n",
       "    </tr>\n",
       "    <tr>\n",
       "      <th>7</th>\n",
       "      <td>12</td>\n",
       "      <td>62</td>\n",
       "      <td>Male</td>\n",
       "      <td>178</td>\n",
       "      <td>95.0</td>\n",
       "      <td>130</td>\n",
       "      <td>90</td>\n",
       "      <td>3</td>\n",
       "      <td>3</td>\n",
       "      <td>0</td>\n",
       "      <td>0</td>\n",
       "      <td>1</td>\n",
       "      <td>1</td>\n",
       "    </tr>\n",
       "    <tr>\n",
       "      <th>10</th>\n",
       "      <td>15</td>\n",
       "      <td>62</td>\n",
       "      <td>Female</td>\n",
       "      <td>169</td>\n",
       "      <td>80.0</td>\n",
       "      <td>120</td>\n",
       "      <td>80</td>\n",
       "      <td>1</td>\n",
       "      <td>1</td>\n",
       "      <td>0</td>\n",
       "      <td>0</td>\n",
       "      <td>1</td>\n",
       "      <td>0</td>\n",
       "    </tr>\n",
       "    <tr>\n",
       "      <th>19</th>\n",
       "      <td>29</td>\n",
       "      <td>60</td>\n",
       "      <td>Male</td>\n",
       "      <td>162</td>\n",
       "      <td>56.0</td>\n",
       "      <td>120</td>\n",
       "      <td>70</td>\n",
       "      <td>1</td>\n",
       "      <td>1</td>\n",
       "      <td>1</td>\n",
       "      <td>0</td>\n",
       "      <td>1</td>\n",
       "      <td>0</td>\n",
       "    </tr>\n",
       "  </tbody>\n",
       "</table>\n",
       "</div>"
      ],
      "text/plain": [
       "    id  age  gender  height  weight  ap_hi  ap_lo  cholesterol  gluc  smoke  \\\n",
       "5    8   60  Female     151    67.0    120     80            2     2      0   \n",
       "6    9   61  Female     157    93.0    130     80            3     1      0   \n",
       "7   12   62    Male     178    95.0    130     90            3     3      0   \n",
       "10  15   62  Female     169    80.0    120     80            1     1      0   \n",
       "19  29   60    Male     162    56.0    120     70            1     1      1   \n",
       "\n",
       "    alco  active  cardio  \n",
       "5      0       0       0  \n",
       "6      0       1       0  \n",
       "7      0       1       1  \n",
       "10     0       1       0  \n",
       "19     0       1       0  "
      ]
     },
     "execution_count": 16,
     "metadata": {},
     "output_type": "execute_result"
    }
   ],
   "source": [
    "# You code here\n",
    "df['age'] = df['age'].apply(lambda x: round(x))\n",
    "\n",
    "ages = df.loc[(df['age']>=60) & (df['age']<=64), :]\n",
    "ages.head()"
   ]
  },
  {
   "cell_type": "code",
   "execution_count": 17,
   "id": "a0cf6ad8",
   "metadata": {
    "execution": {
     "iopub.execute_input": "2022-02-25T10:48:00.361895Z",
     "iopub.status.busy": "2022-02-25T10:48:00.360928Z",
     "iopub.status.idle": "2022-02-25T10:48:00.374901Z",
     "shell.execute_reply": "2022-02-25T10:48:00.375340Z",
     "shell.execute_reply.started": "2022-02-25T09:52:26.174701Z"
    },
    "papermill": {
     "duration": 0.068577,
     "end_time": "2022-02-25T10:48:00.375545",
     "exception": false,
     "start_time": "2022-02-25T10:48:00.306968",
     "status": "completed"
    },
    "tags": []
   },
   "outputs": [
    {
     "data": {
      "text/plain": [
       "1.35"
      ]
     },
     "execution_count": 17,
     "metadata": {},
     "output_type": "execute_result"
    }
   ],
   "source": [
    "ages = ages.loc[(ages['gender'] == 'Male') & (ages['smoke'] == 1) & (ages['cardio'] == 1), :]\n",
    "low_risk = ages[(ages['ap_hi'] < 120) & (ages['cholesterol'] == 1)]\n",
    "high_risk = ages[(ages['ap_hi'] >= 160) & (ages['cholesterol'] == 3)]\n",
    "ratio = high_risk.shape[0] / low_risk.shape[0]\n",
    "ratio"
   ]
  },
  {
   "cell_type": "markdown",
   "id": "2480de27",
   "metadata": {
    "_uuid": "e71f8859a7fb8f23a78ac84b861d41c8f1b9e11f",
    "papermill": {
     "duration": 0.052069,
     "end_time": "2022-02-25T10:48:00.480035",
     "exception": false,
     "start_time": "2022-02-25T10:48:00.427966",
     "status": "completed"
    },
    "tags": []
   },
   "source": [
    "**Question 1.5. (2 points). Calculate the fraction of the people with CVD for the two segments described above. What is the ratio of these two fractions?**\n",
    "\n",
    "1. 1\n",
    "2. 2\n",
    "3. 3\n",
    "4. 4"
   ]
  },
  {
   "cell_type": "markdown",
   "id": "239520b2",
   "metadata": {
    "_uuid": "54cef692e0af3745091c7177d63a2d6c36044474",
    "papermill": {
     "duration": 0.051089,
     "end_time": "2022-02-25T10:48:00.583304",
     "exception": false,
     "start_time": "2022-02-25T10:48:00.532215",
     "status": "completed"
    },
    "tags": []
   },
   "source": [
    "## 1.3. Analyzing BMI\n",
    "### Task:"
   ]
  },
  {
   "cell_type": "markdown",
   "id": "7ad162af",
   "metadata": {
    "_uuid": "c52b4b1c20956e3cc420bb13e7bb12d80aa3ef1a",
    "papermill": {
     "duration": 0.053065,
     "end_time": "2022-02-25T10:48:00.688047",
     "exception": false,
     "start_time": "2022-02-25T10:48:00.634982",
     "status": "completed"
    },
    "tags": []
   },
   "source": [
    "Create a new feature – BMI ([Body Mass Index](https://en.wikipedia.org/wiki/Body_mass_index)). To do this, divide weight in kilogramms by the square of the height in meters. Normal BMI values are said to be from 18.5 to 25. "
   ]
  },
  {
   "cell_type": "code",
   "execution_count": 18,
   "id": "6e189f29",
   "metadata": {
    "_uuid": "5b3134f2597650ae95d0196393b30797518f0498",
    "execution": {
     "iopub.execute_input": "2022-02-25T10:48:00.795574Z",
     "iopub.status.busy": "2022-02-25T10:48:00.794620Z",
     "iopub.status.idle": "2022-02-25T10:48:00.844737Z",
     "shell.execute_reply": "2022-02-25T10:48:00.844217Z",
     "shell.execute_reply.started": "2022-02-25T09:52:26.189437Z"
    },
    "papermill": {
     "duration": 0.104807,
     "end_time": "2022-02-25T10:48:00.844878",
     "exception": false,
     "start_time": "2022-02-25T10:48:00.740071",
     "status": "completed"
    },
    "tags": []
   },
   "outputs": [
    {
     "data": {
      "text/plain": [
       "False"
      ]
     },
     "execution_count": 18,
     "metadata": {},
     "output_type": "execute_result"
    }
   ],
   "source": [
    "# You code here\n",
    "#(df['height']/100)**2\n",
    "df['BMI'] = df['weight']/((df['height']/100)**2)\n",
    "df['BMI'].describe()\n",
    "df[df['gender'] == 'Female']['BMI'].mean() > df[df['gender'] == 'Male']['BMI'].mean() #True\n",
    "df[df['cardio'] == 0]['BMI'].mean() > df[df['cardio'] == 1]['BMI'].mean() #False\n"
   ]
  },
  {
   "cell_type": "markdown",
   "id": "9529b6b9",
   "metadata": {
    "_uuid": "1c2baed24cc5b3abb94b5c6c09d571f29b39213b",
    "papermill": {
     "duration": 0.052408,
     "end_time": "2022-02-25T10:48:00.949913",
     "exception": false,
     "start_time": "2022-02-25T10:48:00.897505",
     "status": "completed"
    },
    "tags": []
   },
   "source": [
    "**Question 1.6. (2 points). Choose the correct statements:**\n",
    "\n",
    "1. Median BMI in the sample is within the range of normal BMI values.\n",
    "2. The BMI for women is on average higher than for men.\n",
    "3. Healthy people have, on average, a higher BMI than the people with CVD.\n",
    "4. For healthy, non-drinking men, BMI is closer to the norm than for healthy, non-drinking women"
   ]
  },
  {
   "cell_type": "markdown",
   "id": "6cbf7ccc",
   "metadata": {
    "_uuid": "2e059032eee1d57c896e24a98b659a5ab16144fd",
    "papermill": {
     "duration": 0.051978,
     "end_time": "2022-02-25T10:48:01.054232",
     "exception": false,
     "start_time": "2022-02-25T10:48:01.002254",
     "status": "completed"
    },
    "tags": []
   },
   "source": [
    "## 1.4. Cleaning data"
   ]
  },
  {
   "cell_type": "markdown",
   "id": "7349ee43",
   "metadata": {
    "_uuid": "26ccfbcb212c3631b4941a294906c027b974301a",
    "papermill": {
     "duration": 0.05167,
     "end_time": "2022-02-25T10:48:01.158809",
     "exception": false,
     "start_time": "2022-02-25T10:48:01.107139",
     "status": "completed"
    },
    "tags": []
   },
   "source": [
    "### Task:\n",
    "We can see that the data is not perfect. It contains \"dirt\" and inaccuracies. We'll see this better as we visualize the data.\n",
    "\n",
    "Filter out the following patient segments (we consider these as erroneous data)\n",
    "\n",
    "- diastolic pressure is higher than systolic \n",
    "- height is strictly less than 2.5 percentile (Use `pd.Series.quantile` to compute this value. If you are not familiar with the function, please read the docs.)\n",
    "- height is strictly more than 97.5 percentile\n",
    "- weight is strictly less than 2.5 percentile\n",
    "- weight is strictly more than 97.5 percentile\n",
    "\n",
    "This is not everything that we can do to clean this data, but this is sufficient for now."
   ]
  },
  {
   "cell_type": "code",
   "execution_count": 19,
   "id": "9b0523bb",
   "metadata": {
    "_uuid": "483fd26f0aff141810dcb084095c380acafbfbdd",
    "execution": {
     "iopub.execute_input": "2022-02-25T10:48:01.274732Z",
     "iopub.status.busy": "2022-02-25T10:48:01.273694Z",
     "iopub.status.idle": "2022-02-25T10:48:01.311262Z",
     "shell.execute_reply": "2022-02-25T10:48:01.310695Z",
     "shell.execute_reply.started": "2022-02-25T09:52:26.242325Z"
    },
    "papermill": {
     "duration": 0.098886,
     "end_time": "2022-02-25T10:48:01.311447",
     "exception": false,
     "start_time": "2022-02-25T10:48:01.212561",
     "status": "completed"
    },
    "tags": []
   },
   "outputs": [
    {
     "data": {
      "text/plain": [
       "9.819999999999995"
      ]
     },
     "execution_count": 19,
     "metadata": {},
     "output_type": "execute_result"
    }
   ],
   "source": [
    "# You code here\n",
    "original_records = df.shape[0]\n",
    "df = df.drop(df.loc[df['ap_hi'] < df['ap_lo'], :].index)\n",
    "\n",
    "min_height = df['height'].quantile(0.025)\n",
    "max_height = df['height'].quantile(0.975)\n",
    "\n",
    "min_weight = df['weight'].quantile(0.025)\n",
    "max_weight = df['weight'].quantile(0.975)\n",
    "\n",
    "df = df.drop(df.loc[(df['height'] < min_height) | (df['height'] > max_height), :].index)\n",
    "df = df.drop(df.loc[(df['weight'] < min_weight) | (df['weight'] > max_weight), :].index)\n",
    "post_records = df.shape[0]\n",
    "(1 - (post_records / original_records))*100 "
   ]
  },
  {
   "cell_type": "markdown",
   "id": "05cad64d",
   "metadata": {
    "_uuid": "f807adaa6459d1c75d202bb973831369d6eeb20e",
    "papermill": {
     "duration": 0.052897,
     "end_time": "2022-02-25T10:48:01.417150",
     "exception": false,
     "start_time": "2022-02-25T10:48:01.364253",
     "status": "completed"
    },
    "tags": []
   },
   "source": [
    "**Question 1.7. (2 points). What percent of the original data (rounded) did we throw away?**\n",
    "\n",
    "1. 8\n",
    "2. 9\n",
    "3. 10\n",
    "4. 11"
   ]
  },
  {
   "cell_type": "markdown",
   "id": "6fc6addb",
   "metadata": {
    "_uuid": "a9f14b459f71ac2304e73145fc199a90131965e7",
    "papermill": {
     "duration": 0.052925,
     "end_time": "2022-02-25T10:48:01.522891",
     "exception": false,
     "start_time": "2022-02-25T10:48:01.469966",
     "status": "completed"
    },
    "tags": []
   },
   "source": [
    "# Part 2. Visual data analysis\n",
    "\n",
    "## 2.1. Correlation matrix visualization\n",
    "\n",
    "To understand the features better, you can create a matrix of the correlation coefficients between the features. Use the initial dataset (non-filtered).\n",
    "\n",
    "### Task:\n",
    "\n",
    "Plot a correlation matrix using [`heatmap()`](http://seaborn.pydata.org/generated/seaborn.heatmap.html). You can create the matrix using the standard `pandas` tools with the default parameters."
   ]
  },
  {
   "cell_type": "code",
   "execution_count": 20,
   "id": "59082722",
   "metadata": {
    "execution": {
     "iopub.execute_input": "2022-02-25T10:48:01.631436Z",
     "iopub.status.busy": "2022-02-25T10:48:01.630810Z",
     "iopub.status.idle": "2022-02-25T10:48:01.642534Z",
     "shell.execute_reply": "2022-02-25T10:48:01.642982Z",
     "shell.execute_reply.started": "2022-02-25T09:52:26.296406Z"
    },
    "papermill": {
     "duration": 0.067644,
     "end_time": "2022-02-25T10:48:01.643165",
     "exception": false,
     "start_time": "2022-02-25T10:48:01.575521",
     "status": "completed"
    },
    "tags": []
   },
   "outputs": [
    {
     "data": {
      "text/plain": [
       "0        2\n",
       "1        1\n",
       "2        1\n",
       "3        2\n",
       "4        1\n",
       "        ..\n",
       "69993    1\n",
       "69994    1\n",
       "69995    2\n",
       "69998    1\n",
       "69999    1\n",
       "Name: gender, Length: 63126, dtype: int64"
      ]
     },
     "execution_count": 20,
     "metadata": {},
     "output_type": "execute_result"
    }
   ],
   "source": [
    "#df.columns\n",
    "df['gender'] = df['gender'].map({'Female':1, 'Male':2})\n",
    "df['gender']"
   ]
  },
  {
   "cell_type": "code",
   "execution_count": 21,
   "id": "06220ffc",
   "metadata": {
    "_uuid": "a9c19a7bf2dd564b484e8269886340c13967fede",
    "execution": {
     "iopub.execute_input": "2022-02-25T10:48:01.757932Z",
     "iopub.status.busy": "2022-02-25T10:48:01.756568Z",
     "iopub.status.idle": "2022-02-25T10:48:03.023024Z",
     "shell.execute_reply": "2022-02-25T10:48:03.023632Z",
     "shell.execute_reply.started": "2022-02-25T09:52:26.310397Z"
    },
    "papermill": {
     "duration": 1.326223,
     "end_time": "2022-02-25T10:48:03.023807",
     "exception": false,
     "start_time": "2022-02-25T10:48:01.697584",
     "status": "completed"
    },
    "tags": []
   },
   "outputs": [
    {
     "data": {
      "text/plain": [
       "<AxesSubplot:>"
      ]
     },
     "execution_count": 21,
     "metadata": {},
     "output_type": "execute_result"
    },
    {
     "data": {
      "image/png": "[encoded data removed]",
      "text/plain": [
       "<Figure size 792x576 with 2 Axes>"
      ]
     },
     "metadata": {
      "needs_background": "light"
     },
     "output_type": "display_data"
    }
   ],
   "source": [
    "# You code here\n",
    "sns.heatmap(df.corr(method='pearson'), annot=True, fmt='.1f')"
   ]
  },
  {
   "cell_type": "markdown",
   "id": "a324fee8",
   "metadata": {
    "_uuid": "987ff630db004c51cc9e89e0c6cf6d14d619c4c0",
    "papermill": {
     "duration": 0.057027,
     "end_time": "2022-02-25T10:48:03.139156",
     "exception": false,
     "start_time": "2022-02-25T10:48:03.082129",
     "status": "completed"
    },
    "tags": []
   },
   "source": [
    "** Question 2.1. (1 point).** Which pair of features has the strongest Pearson's correlation with the *gender* feature?\n",
    "\n",
    "1. Cardio, Cholesterol\n",
    "2. Height, Smoke\n",
    "3. Smoke, Alco\n",
    "4. Height, Weight"
   ]
  },
  {
   "cell_type": "markdown",
   "id": "c8dff7f4",
   "metadata": {
    "_uuid": "01edf6a3a68f47f07164b3e4cb9e6ab5ef1efcd6",
    "papermill": {
     "duration": 0.057338,
     "end_time": "2022-02-25T10:48:03.254656",
     "exception": false,
     "start_time": "2022-02-25T10:48:03.197318",
     "status": "completed"
    },
    "tags": []
   },
   "source": [
    "## 2.2. Height distribution of men and women\n",
    "\n",
    "From our exploration of the unique values earlier, we know that the gender is encoded by the values *1* and *2*. Although you do not know the mapping of these values to gender, you can figure that out graphically by looking at the mean values of height and weight for each value of the *gender* feature.\n",
    "\n",
    "### Task:\n",
    "\n",
    "Create a violin plot for the height and gender using [`violinplot()`](https://seaborn.pydata.org/generated/seaborn.violinplot.html). Use the parameters:\n",
    "- `hue` to split by gender;\n",
    "- `scale` to evaluate the number of records for each gender.\n",
    "\n",
    "In order for the plot to render correctly, you need to convert your `DataFrame` to *long* format using the `melt()` function from `pandas`. Here is [an example](https://stackoverflow.com/a/41575149/3338479) of this for your reference."
   ]
  },
  {
   "cell_type": "code",
   "execution_count": 22,
   "id": "d8131f5c",
   "metadata": {
    "_uuid": "71d38ccddbe26ca51c69fbdba7cc4405ee459de4",
    "execution": {
     "iopub.execute_input": "2022-02-25T10:48:03.374719Z",
     "iopub.status.busy": "2022-02-25T10:48:03.374067Z",
     "iopub.status.idle": "2022-02-25T10:48:04.168486Z",
     "shell.execute_reply": "2022-02-25T10:48:04.167876Z",
     "shell.execute_reply.started": "2022-02-25T09:52:27.341589Z"
    },
    "papermill": {
     "duration": 0.85685,
     "end_time": "2022-02-25T10:48:04.168630",
     "exception": false,
     "start_time": "2022-02-25T10:48:03.311780",
     "status": "completed"
    },
    "tags": []
   },
   "outputs": [
    {
     "data": {
      "image/png": "[encoded data removed]",
      "text/plain": [
       "<Figure size 792x576 with 1 Axes>"
      ]
     },
     "metadata": {
      "needs_background": "light"
     },
     "output_type": "display_data"
    }
   ],
   "source": [
    "# You code here\n",
    "df1 = pd.melt(df, value_vars=['weight', 'height'], id_vars='gender')\n",
    "sns.violinplot(x='variable', y='value', hue='gender', data=df1)\n",
    "plt.show()"
   ]
  },
  {
   "cell_type": "markdown",
   "id": "099e5ee5",
   "metadata": {
    "papermill": {
     "duration": 0.05907,
     "end_time": "2022-02-25T10:48:04.288973",
     "exception": false,
     "start_time": "2022-02-25T10:48:04.229903",
     "status": "completed"
    },
    "tags": []
   },
   "source": [
    "**Question 2.2. (1 point).** Which pair of features has the strongest Spearman correlation?\n",
    "\n",
    "1. Height, Weight\n",
    "2. Age, Weight\n",
    "3. Cholesterol, Gluc\n",
    "4. Cardio, Cholesterol\n",
    "5. Ap_hi, Ap_lo\n",
    "6. Smoke, Alco"
   ]
  },
  {
   "cell_type": "markdown",
   "id": "952ed6b7",
   "metadata": {
    "papermill": {
     "duration": 0.058812,
     "end_time": "2022-02-25T10:48:04.407219",
     "exception": false,
     "start_time": "2022-02-25T10:48:04.348407",
     "status": "completed"
    },
    "tags": []
   },
   "source": [
    "## 2.3. Rank correlation\n",
    "\n",
    "In most cases, *the Pearson coefficient of linear correlation* is more than enough to discover patterns in data. \n",
    "But let's go a little further and calculate a [rank correlation](https://en.wikipedia.org/wiki/Rank_correlation). It will help us to identify such feature pairs in which the lower rank in the variational series of one feature always precedes the higher rank in the another one (and we have the opposite in the case of negative correlation).\n",
    "\n",
    "### Task:\n",
    "\n",
    "Calculate and plot a correlation matrix using the [Spearman's rank correlation coefficient](https://en.wikipedia.org/wiki/Spearman%27s_rank_correlation_coefficient).\n"
   ]
  },
  {
   "cell_type": "code",
   "execution_count": 23,
   "id": "d8b76547",
   "metadata": {
    "execution": {
     "iopub.execute_input": "2022-02-25T10:48:04.529242Z",
     "iopub.status.busy": "2022-02-25T10:48:04.528227Z",
     "iopub.status.idle": "2022-02-25T10:48:06.038301Z",
     "shell.execute_reply": "2022-02-25T10:48:06.038882Z",
     "shell.execute_reply.started": "2022-02-25T10:04:22.869414Z"
    },
    "papermill": {
     "duration": 1.572765,
     "end_time": "2022-02-25T10:48:06.039068",
     "exception": false,
     "start_time": "2022-02-25T10:48:04.466303",
     "status": "completed"
    },
    "tags": []
   },
   "outputs": [
    {
     "data": {
      "text/plain": [
       "<AxesSubplot:>"
      ]
     },
     "execution_count": 23,
     "metadata": {},
     "output_type": "execute_result"
    },
    {
     "data": {
      "image/png": "[encoded data removed]",
      "text/plain": [
       "<Figure size 792x576 with 2 Axes>"
      ]
     },
     "metadata": {
      "needs_background": "light"
     },
     "output_type": "display_data"
    }
   ],
   "source": [
    "# You code here\n",
    "corr = df.corr(method='spearman')\n",
    "sns.heatmap(corr, annot=True, fmt='.1f')"
   ]
  },
  {
   "cell_type": "markdown",
   "id": "ba1f8835",
   "metadata": {
    "_uuid": "2282d0651afdbe69cdb68b266e509f20a865a63f",
    "papermill": {
     "duration": 0.064444,
     "end_time": "2022-02-25T10:48:06.171359",
     "exception": false,
     "start_time": "2022-02-25T10:48:06.106915",
     "status": "completed"
    },
    "tags": []
   },
   "source": [
    "**Question 2.3. (1 point).** Why do these features have strong rank correlation?\n",
    "\n",
    "1. Inaccuracies in the data (data acquisition errors).\n",
    "2. Relation is wrong, these features should not be related.\n",
    "3. Nature of the data."
   ]
  },
  {
   "cell_type": "markdown",
   "id": "fd3386c7",
   "metadata": {
    "_uuid": "25b4b303156fd6f9178c9b23fba4ff3f220a5977",
    "papermill": {
     "duration": 0.064287,
     "end_time": "2022-02-25T10:48:06.300566",
     "exception": false,
     "start_time": "2022-02-25T10:48:06.236279",
     "status": "completed"
    },
    "tags": []
   },
   "source": [
    "## 2.4. Age\n",
    "\n",
    "Previously, we calculated the age of the respondents in years at the moment of examination."
   ]
  },
  {
   "cell_type": "markdown",
   "id": "4aa88946",
   "metadata": {
    "_uuid": "d48bb97cba3968e7f73c790226278f6fa818871b",
    "papermill": {
     "duration": 0.064033,
     "end_time": "2022-02-25T10:48:06.429247",
     "exception": false,
     "start_time": "2022-02-25T10:48:06.365214",
     "status": "completed"
    },
    "tags": []
   },
   "source": [
    "### Task:\n",
    "\n",
    "Create a *count plot* using [`countplot()`](http://seaborn.pydata.org/generated/seaborn.countplot.html) with the age on the *X* axis and the number of people on the *Y* axis. Your resulting plot should have two columns for each age, corresponding to the number of people for each *cardio* class of that age."
   ]
  },
  {
   "cell_type": "code",
   "execution_count": 24,
   "id": "e5fcfd97",
   "metadata": {
    "_uuid": "fd07f3aab9891fd86228d5880a7a38cc88b282ba",
    "execution": {
     "iopub.execute_input": "2022-02-25T10:48:06.560069Z",
     "iopub.status.busy": "2022-02-25T10:48:06.559429Z",
     "iopub.status.idle": "2022-02-25T10:48:07.226502Z",
     "shell.execute_reply": "2022-02-25T10:48:07.226980Z",
     "shell.execute_reply.started": "2022-02-25T10:08:04.996886Z"
    },
    "papermill": {
     "duration": 0.734304,
     "end_time": "2022-02-25T10:48:07.227157",
     "exception": false,
     "start_time": "2022-02-25T10:48:06.492853",
     "status": "completed"
    },
    "tags": []
   },
   "outputs": [
    {
     "data": {
      "text/plain": [
       "<AxesSubplot:xlabel='age', ylabel='count'>"
      ]
     },
     "execution_count": 24,
     "metadata": {},
     "output_type": "execute_result"
    },
    {
     "data": {
      "image/png": "[encoded data removed]",
      "text/plain": [
       "<Figure size 792x576 with 1 Axes>"
      ]
     },
     "metadata": {
      "needs_background": "light"
     },
     "output_type": "display_data"
    }
   ],
   "source": [
    "# You code here\n",
    "sns.countplot(x='age', hue='cardio', data=df)"
   ]
  },
  {
   "cell_type": "markdown",
   "id": "924c6964",
   "metadata": {
    "_uuid": "49557c7bd46d729c27aa8190df65cc25e45e7528",
    "papermill": {
     "duration": 0.065203,
     "end_time": "2022-02-25T10:48:07.358149",
     "exception": false,
     "start_time": "2022-02-25T10:48:07.292946",
     "status": "completed"
    },
    "tags": []
   },
   "source": [
    "**Question 2.4. (1 point).** What is the smallest age at which the number of people with CVD outnumber the number of people without CVD?\n",
    "\n",
    "1. 44\n",
    "2. 55\n",
    "3. 64\n",
    "4. 70"
   ]
  }
 ],
 "metadata": {
  "kernelspec": {
   "display_name": "Python 3",
   "language": "python",
   "name": "python3"
  },
  "language_info": {
   "codemirror_mode": {
    "name": "ipython",
    "version": 3
   },
   "file_extension": ".py",
   "mimetype": "text/x-python",
   "name": "python",
   "nbconvert_exporter": "python",
   "pygments_lexer": "ipython3",
   "version": "3.7.12"
  },
  "papermill": {
   "default_parameters": {},
   "duration": 23.639163,
   "end_time": "2022-02-25T10:48:08.134571",
   "environment_variables": {},
   "exception": null,
   "input_path": "__notebook__.ipynb",
   "output_path": "__notebook__.ipynb",
   "parameters": {},
   "start_time": "2022-02-25T10:47:44.495408",
   "version": "2.3.3"
  }
 },
 "nbformat": 4,
 "nbformat_minor": 5
}
